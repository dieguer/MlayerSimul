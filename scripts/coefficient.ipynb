{
 "cells": [
  {
   "cell_type": "markdown",
   "metadata": {},
   "source": [
    "# Coefficient of the estimator\n",
    "\n",
    "For the data processing steps below refer to the empirical NB"
   ]
  },
  {
   "cell_type": "code",
   "execution_count": 30,
   "metadata": {},
   "outputs": [],
   "source": [
    "# load libraries\n",
    "#library(skimr)\n",
    "library(tidyverse)\n",
    "library(data.table)\n",
    "require(parallel)\n",
    "require(purrr)\n",
    "require(gtools)\n",
    "require('igraph')\n",
    "require(gridExtra)\n",
    "require(reshape2)\n",
    "require(MASS)\n",
    "require(Matrix)\n",
    "patho <- \"/home/diego/Documents/Thesis/MlayerSimul/\"\n",
    "source(paste0(patho,\"scripts/DGPs.R\"))\n",
    "source(paste0(patho,\"scripts/evalo.r\"))\n",
    "source(paste0(patho,\"scripts/evalo2.r\"))\n",
    "source(paste0(patho,\"scripts/makedata.R\"))\n",
    "\n",
    "\n",
    "# specify path\n",
    "dpath  <-  \"~/Dropbox/datatesis/gravfol\"\n",
    "\n",
    "#read data and filter  \n",
    "data <- fread(paste0(dpath,\"/mlayerdata.csv\"))\n",
    "\n",
    "data <- data  %>% dplyr::select(c(iso3num_o,\n",
    "             iso3num_d,year,tourism,fdi,fdi2, contig:tradeflow_imf_d))  %>% \n",
    "             filter(year==2015)  %>% dplyr::select(-c(empire))\n",
    "\n",
    " data  <- data %>% mutate(\n",
    "     across(c(tourism:tradeflow_imf_d), ~replace_na(.x, 0))\n",
    "   )\n",
    "\n",
    "data  <-  data %>% filter(!(is.na(iso3num_d) | is.na(iso3num_o) ))\n",
    "#\n",
    "    data  <- data  %>% \n",
    "    mutate(across(starts_with(\"tradeflow\"), ~.x / 1000 ))\n",
    "\n",
    "data <- data %>%  \n",
    "    mutate(across(starts_with(\"tourism\"), ~.x / 1000 ))\n",
    "\n",
    "data <- data  %>% \n",
    "    mutate(across(starts_with(\"fdi\"), ~ case_when( .x >  0 ~ .x / 1000000, T ~ 0 ))) \n",
    "\n",
    "data<- data %>% mutate( ldist = case_when( dist > 0 ~ log(dist/1000), T ~ 0 ))\n",
    "\n"
   ]
  },
  {
   "cell_type": "markdown",
   "metadata": {},
   "source": [
    "## models\n",
    "\n",
    "# model function"
   ]
  },
  {
   "cell_type": "code",
   "execution_count": 31,
   "metadata": {},
   "outputs": [],
   "source": [
    "list1 <- c(\"ldist\",\"contig\",\"comlang_off\",\"comcol\",\"rta\")\n",
    "list2  <- c(\"tourism\",\"fdi\",\"tradeflow_comtrade_d\")\n",
    "strato <- list(c(1 ,2),c(1 ,3),c(2 ,1),\n",
    "             c(3 ,1),c(2 ,3),c(3 ,2))\n",
    "\n",
    "chosenito  <- ((250^2)*(249^2)*(3^2)*(2^2))/4\n",
    "\n",
    "\n",
    "\n",
    "mljoch <- function(list1, list2, dato,str_list,ska, run=F){\n",
    "\n",
    "lista  <- names(dato %>% dplyr::select(any_of(list1)))\n",
    "listo  <-  names(dato %>% dplyr::select(any_of(list2)))\n",
    "obja <- makedata(dato[,..listo],dato[,..lista],unlist(dato[,\"iso3num_o\"]),unlist(dato[,\"iso3num_d\"]))\n",
    "init <- rep(-1,length(obja)-1)\n",
    "\n",
    "if(run==T){\n",
    "return( optim(init, fn = evalo, gr = evalo_g, method = \"BFGS\",\n",
    "                simat = obja, strobject = str_list, \n",
    "                chosen=ska ))\n",
    "} else{\n",
    "return(evalo(init,obja,strato,chosenito))\n",
    "}\n",
    "\n",
    "}\n",
    "\n",
    "#mljoch(list1,list2,data ,strato,chosenito,T)$par\n",
    "\n",
    "\n",
    "\n",
    "\n",
    "\n",
    "#evalo_g(init,listerin,strato,250^2)\n",
    "\n"
   ]
  },
  {
   "cell_type": "markdown",
   "metadata": {},
   "source": [
    "First use the model as indicated by jochman"
   ]
  },
  {
   "cell_type": "code",
   "execution_count": 33,
   "metadata": {},
   "outputs": [
    {
     "data": {
      "text/html": [
       "<style>\n",
       ".list-inline {list-style: none; margin:0; padding: 0}\n",
       ".list-inline>li {display: inline-block}\n",
       ".list-inline>li:not(:last-child)::after {content: \"\\00b7\"; padding: 0 .5ex}\n",
       "</style>\n",
       "<ol class=list-inline><li>2.41008127898107</li><li>9.96676139572213</li><li>20.3367537811937</li><li>12.7648973454039</li><li>15.6977810209322</li></ol>\n"
      ],
      "text/latex": [
       "\\begin{enumerate*}\n",
       "\\item 2.41008127898107\n",
       "\\item 9.96676139572213\n",
       "\\item 20.3367537811937\n",
       "\\item 12.7648973454039\n",
       "\\item 15.6977810209322\n",
       "\\end{enumerate*}\n"
      ],
      "text/markdown": [
       "1. 2.41008127898107\n",
       "2. 9.96676139572213\n",
       "3. 20.3367537811937\n",
       "4. 12.7648973454039\n",
       "5. 15.6977810209322\n",
       "\n",
       "\n"
      ],
      "text/plain": [
       "[1]  2.410081  9.966761 20.336754 12.764897 15.697781"
      ]
     },
     "metadata": {},
     "output_type": "display_data"
    }
   ],
   "source": [
    "list1 <- c(\"ldist\",\"contig\",\"comlang_off\",\"comcol\",\"rta\")\n",
    "list2  <- c(\"tourism\",\"fdi\",\"tradeflow_comtrade_d\")\n",
    "m0 <- mljoch(list1,list2,data ,strato,chosenito,T)\n",
    "m0$par"
   ]
  },
  {
   "cell_type": "code",
   "execution_count": 34,
   "metadata": {},
   "outputs": [],
   "source": [
    "data  <- data %>% mutate(ldisq = ldist^2)\n",
    "data  <- data %>% mutate(ldisc = ldist^3)\n",
    "data  <- data %>% mutate(inter1 = ldist*contig)\n",
    "data  <- data %>% mutate(inter2 = ldisq*contig)\n",
    "\n",
    "list1 <- c(\"ldist\",\"ldisq\",\"contig\",\"comlang_off\",\"comcol\")\n",
    "list2  <- c(\"tourism\",\"fdi\",\"tradeflow_comtrade_d\")\n",
    "m1 <- mljoch(list1,list2,data ,strato,chosenito,T)\n",
    "\n",
    "list1 <- c(\"ldist\",\"ldisq\",\"ldisc\",\"contig\",\"comlang_off\",\"comcol\")\n",
    "\n",
    "m2 <- mljoch(list1,list2,data,strato,chosenito,T)\n",
    "\n",
    "\n",
    "list1 <- c(\"ldist\",\"ldisq\",\"ldisc\",\"contig\",\"inter1\",\"comlang_off\",\"comcol\")\n",
    "\n",
    "m3 <- mljoch(list1,list2,data,strato,chosenito,T)\n",
    "\n",
    "\n",
    "list1 <- c(\"ldist\",\"ldisq\",\"ldisc\",\"contig\",\"inter1\",\"inter2\",\"comlang_off\",\"comcol\")\n",
    "\n",
    "m4 <- mljoch(list1,list2,data,strato,chosenito,T)\n",
    "\n"
   ]
  },
  {
   "cell_type": "code",
   "execution_count": 37,
   "metadata": {},
   "outputs": [
    {
     "data": {
      "text/html": [
       "<ol>\n",
       "\t<li><style>\n",
       ".list-inline {list-style: none; margin:0; padding: 0}\n",
       ".list-inline>li {display: inline-block}\n",
       ".list-inline>li:not(:last-child)::after {content: \"\\00b7\"; padding: 0 .5ex}\n",
       "</style>\n",
       "<ol class=list-inline><li>-39.2564375072142</li><li>1008.20076238463</li><li>97.0780215071137</li><li>24.6853317858004</li><li>6.33728168873459</li></ol>\n",
       "</li>\n",
       "\t<li><style>\n",
       ".list-inline {list-style: none; margin:0; padding: 0}\n",
       ".list-inline>li {display: inline-block}\n",
       ".list-inline>li:not(:last-child)::after {content: \"\\00b7\"; padding: 0 .5ex}\n",
       "</style>\n",
       "<ol class=list-inline><li>-52.3269255724874</li><li>2309.38281697713</li><li>109.153385510531</li><li>379.165005819312</li><li>117.415648459844</li><li>377.100379560396</li></ol>\n",
       "</li>\n",
       "\t<li><style>\n",
       ".list-inline {list-style: none; margin:0; padding: 0}\n",
       ".list-inline>li {display: inline-block}\n",
       ".list-inline>li:not(:last-child)::after {content: \"\\00b7\"; padding: 0 .5ex}\n",
       "</style>\n",
       "<ol class=list-inline><li>-51.5718112301401</li><li>1745.65604228207</li><li>143.679945112352</li><li>196.282311017093</li><li>-182.522595287182</li><li>41.2792185132277</li><li>22.5422061582167</li></ol>\n",
       "</li>\n",
       "\t<li><style>\n",
       ".list-inline {list-style: none; margin:0; padding: 0}\n",
       ".list-inline>li {display: inline-block}\n",
       ".list-inline>li:not(:last-child)::after {content: \"\\00b7\"; padding: 0 .5ex}\n",
       "</style>\n",
       "<ol class=list-inline><li>-51.422689880595</li><li>2091.6353625739</li><li>-181.231990217791</li><li>52.1425009229481</li><li>-178.828369313073</li><li>-181.108543372396</li><li>103.690445218366</li><li>162.219862726869</li></ol>\n",
       "</li>\n",
       "</ol>\n"
      ],
      "text/latex": [
       "\\begin{enumerate}\n",
       "\\item \\begin{enumerate*}\n",
       "\\item -39.2564375072142\n",
       "\\item 1008.20076238463\n",
       "\\item 97.0780215071137\n",
       "\\item 24.6853317858004\n",
       "\\item 6.33728168873459\n",
       "\\end{enumerate*}\n",
       "\n",
       "\\item \\begin{enumerate*}\n",
       "\\item -52.3269255724874\n",
       "\\item 2309.38281697713\n",
       "\\item 109.153385510531\n",
       "\\item 379.165005819312\n",
       "\\item 117.415648459844\n",
       "\\item 377.100379560396\n",
       "\\end{enumerate*}\n",
       "\n",
       "\\item \\begin{enumerate*}\n",
       "\\item -51.5718112301401\n",
       "\\item 1745.65604228207\n",
       "\\item 143.679945112352\n",
       "\\item 196.282311017093\n",
       "\\item -182.522595287182\n",
       "\\item 41.2792185132277\n",
       "\\item 22.5422061582167\n",
       "\\end{enumerate*}\n",
       "\n",
       "\\item \\begin{enumerate*}\n",
       "\\item -51.422689880595\n",
       "\\item 2091.6353625739\n",
       "\\item -181.231990217791\n",
       "\\item 52.1425009229481\n",
       "\\item -178.828369313073\n",
       "\\item -181.108543372396\n",
       "\\item 103.690445218366\n",
       "\\item 162.219862726869\n",
       "\\end{enumerate*}\n",
       "\n",
       "\\end{enumerate}\n"
      ],
      "text/markdown": [
       "1. 1. -39.2564375072142\n",
       "2. 1008.20076238463\n",
       "3. 97.0780215071137\n",
       "4. 24.6853317858004\n",
       "5. 6.33728168873459\n",
       "\n",
       "\n",
       "\n",
       "2. 1. -52.3269255724874\n",
       "2. 2309.38281697713\n",
       "3. 109.153385510531\n",
       "4. 379.165005819312\n",
       "5. 117.415648459844\n",
       "6. 377.100379560396\n",
       "\n",
       "\n",
       "\n",
       "3. 1. -51.5718112301401\n",
       "2. 1745.65604228207\n",
       "3. 143.679945112352\n",
       "4. 196.282311017093\n",
       "5. -182.522595287182\n",
       "6. 41.2792185132277\n",
       "7. 22.5422061582167\n",
       "\n",
       "\n",
       "\n",
       "4. 1. -51.422689880595\n",
       "2. 2091.6353625739\n",
       "3. -181.231990217791\n",
       "4. 52.1425009229481\n",
       "5. -178.828369313073\n",
       "6. -181.108543372396\n",
       "7. 103.690445218366\n",
       "8. 162.219862726869\n",
       "\n",
       "\n",
       "\n",
       "\n",
       "\n"
      ],
      "text/plain": [
       "[[1]]\n",
       "[1]  -39.256438 1008.200762   97.078022   24.685332    6.337282\n",
       "\n",
       "[[2]]\n",
       "[1]  -52.32693 2309.38282  109.15339  379.16501  117.41565  377.10038\n",
       "\n",
       "[[3]]\n",
       "[1]  -51.57181 1745.65604  143.67995  196.28231 -182.52260   41.27922   22.54221\n",
       "\n",
       "[[4]]\n",
       "[1]  -51.42269 2091.63536 -181.23199   52.14250 -178.82837 -181.10854  103.69045\n",
       "[8]  162.21986\n"
      ]
     },
     "metadata": {},
     "output_type": "display_data"
    }
   ],
   "source": [
    "pars <- lapply(list(m1,m2,m3,m4), function(x){\n",
    "    x$par\n",
    "})\n",
    "\n",
    "pars"
   ]
  },
  {
   "cell_type": "markdown",
   "metadata": {},
   "source": [
    "# Centered data"
   ]
  },
  {
   "cell_type": "code",
   "execution_count": 35,
   "metadata": {},
   "outputs": [],
   "source": [
    "data <- data %>%  mutate(sldata= ldist-mean(ldist),sldatasq= sldata^2)\n",
    "data  <- data %>% mutate(inter1s = sldata*contig)\n",
    "data  <- data %>% mutate(inter2s = sldatasq*contig)\n",
    "\n",
    "list1 <- c(\"sldata\",\"sldatasq\",\"contig\",\"comlang_off\",\"comcol\")\n",
    "\n",
    "m5 <- mljoch(list1,list2,data ,strato,chosenito,T)\n",
    "\n",
    "list1 <- c(\"sldata\",\"sldatasq\",\"contig\",\"inter1\",\"comlang_off\",\"comcol\")\n",
    "\n",
    "m6 <- mljoch(list1,list2,data,strato,chosenito,T)\n",
    "\n",
    "\n",
    "list1 <- c(\"sldata\",\"sldatasq\",\"contig\",\"inter1\",\"inter2\",\"comlang_off\",\"comcol\")\n",
    "\n",
    "m7 <- mljoch(list1,list2,data,strato,chosenito,T)"
   ]
  },
  {
   "cell_type": "code",
   "execution_count": 38,
   "metadata": {},
   "outputs": [
    {
     "data": {
      "text/html": [
       "<ol>\n",
       "\t<li><style>\n",
       ".list-inline {list-style: none; margin:0; padding: 0}\n",
       ".list-inline>li {display: inline-block}\n",
       ".list-inline>li:not(:last-child)::after {content: \"\\00b7\"; padding: 0 .5ex}\n",
       "</style>\n",
       "<ol class=list-inline><li>-39.2564375072142</li><li>1008.20076238463</li><li>97.0780215071137</li><li>24.6853317858004</li><li>6.33728168873459</li></ol>\n",
       "</li>\n",
       "\t<li><style>\n",
       ".list-inline {list-style: none; margin:0; padding: 0}\n",
       ".list-inline>li {display: inline-block}\n",
       ".list-inline>li:not(:last-child)::after {content: \"\\00b7\"; padding: 0 .5ex}\n",
       "</style>\n",
       "<ol class=list-inline><li>-52.3269255724874</li><li>2309.38281697713</li><li>109.153385510531</li><li>379.165005819312</li><li>117.415648459844</li><li>377.100379560396</li></ol>\n",
       "</li>\n",
       "\t<li><style>\n",
       ".list-inline {list-style: none; margin:0; padding: 0}\n",
       ".list-inline>li {display: inline-block}\n",
       ".list-inline>li:not(:last-child)::after {content: \"\\00b7\"; padding: 0 .5ex}\n",
       "</style>\n",
       "<ol class=list-inline><li>-51.5718112301401</li><li>1745.65604228207</li><li>143.679945112352</li><li>196.282311017093</li><li>-182.522595287182</li><li>41.2792185132277</li><li>22.5422061582167</li></ol>\n",
       "</li>\n",
       "\t<li><style>\n",
       ".list-inline {list-style: none; margin:0; padding: 0}\n",
       ".list-inline>li {display: inline-block}\n",
       ".list-inline>li:not(:last-child)::after {content: \"\\00b7\"; padding: 0 .5ex}\n",
       "</style>\n",
       "<ol class=list-inline><li>-51.422689880595</li><li>2091.6353625739</li><li>-181.231990217791</li><li>52.1425009229481</li><li>-178.828369313073</li><li>-181.108543372396</li><li>103.690445218366</li><li>162.219862726869</li></ol>\n",
       "</li>\n",
       "\t<li><style>\n",
       ".list-inline {list-style: none; margin:0; padding: 0}\n",
       ".list-inline>li {display: inline-block}\n",
       ".list-inline>li:not(:last-child)::after {content: \"\\00b7\"; padding: 0 .5ex}\n",
       "</style>\n",
       "<ol class=list-inline><li>-9.17225449891967</li><li>662.579935910909</li><li>145.947030181385</li><li>16.0780161025309</li><li>12.0967906207057</li></ol>\n",
       "</li>\n",
       "\t<li><style>\n",
       ".list-inline {list-style: none; margin:0; padding: 0}\n",
       ".list-inline>li {display: inline-block}\n",
       ".list-inline>li:not(:last-child)::after {content: \"\\00b7\"; padding: 0 .5ex}\n",
       "</style>\n",
       "<ol class=list-inline><li>-8.59893198775753</li><li>949.14586206545</li><li>491.21026326152</li><li>849.107911167943</li><li>14.6487208517824</li><li>51.519408265171</li></ol>\n",
       "</li>\n",
       "\t<li><style>\n",
       ".list-inline {list-style: none; margin:0; padding: 0}\n",
       ".list-inline>li {display: inline-block}\n",
       ".list-inline>li:not(:last-child)::after {content: \"\\00b7\"; padding: 0 .5ex}\n",
       "</style>\n",
       "<ol class=list-inline><li>-10.5364502392919</li><li>1184.23429105563</li><li>49.0012500651003</li><li>134.054658103862</li><li>-75.8750635734072</li><li>29.7735195528797</li><li>10.0542476755602</li></ol>\n",
       "</li>\n",
       "</ol>\n"
      ],
      "text/latex": [
       "\\begin{enumerate}\n",
       "\\item \\begin{enumerate*}\n",
       "\\item -39.2564375072142\n",
       "\\item 1008.20076238463\n",
       "\\item 97.0780215071137\n",
       "\\item 24.6853317858004\n",
       "\\item 6.33728168873459\n",
       "\\end{enumerate*}\n",
       "\n",
       "\\item \\begin{enumerate*}\n",
       "\\item -52.3269255724874\n",
       "\\item 2309.38281697713\n",
       "\\item 109.153385510531\n",
       "\\item 379.165005819312\n",
       "\\item 117.415648459844\n",
       "\\item 377.100379560396\n",
       "\\end{enumerate*}\n",
       "\n",
       "\\item \\begin{enumerate*}\n",
       "\\item -51.5718112301401\n",
       "\\item 1745.65604228207\n",
       "\\item 143.679945112352\n",
       "\\item 196.282311017093\n",
       "\\item -182.522595287182\n",
       "\\item 41.2792185132277\n",
       "\\item 22.5422061582167\n",
       "\\end{enumerate*}\n",
       "\n",
       "\\item \\begin{enumerate*}\n",
       "\\item -51.422689880595\n",
       "\\item 2091.6353625739\n",
       "\\item -181.231990217791\n",
       "\\item 52.1425009229481\n",
       "\\item -178.828369313073\n",
       "\\item -181.108543372396\n",
       "\\item 103.690445218366\n",
       "\\item 162.219862726869\n",
       "\\end{enumerate*}\n",
       "\n",
       "\\item \\begin{enumerate*}\n",
       "\\item -9.17225449891967\n",
       "\\item 662.579935910909\n",
       "\\item 145.947030181385\n",
       "\\item 16.0780161025309\n",
       "\\item 12.0967906207057\n",
       "\\end{enumerate*}\n",
       "\n",
       "\\item \\begin{enumerate*}\n",
       "\\item -8.59893198775753\n",
       "\\item 949.14586206545\n",
       "\\item 491.21026326152\n",
       "\\item 849.107911167943\n",
       "\\item 14.6487208517824\n",
       "\\item 51.519408265171\n",
       "\\end{enumerate*}\n",
       "\n",
       "\\item \\begin{enumerate*}\n",
       "\\item -10.5364502392919\n",
       "\\item 1184.23429105563\n",
       "\\item 49.0012500651003\n",
       "\\item 134.054658103862\n",
       "\\item -75.8750635734072\n",
       "\\item 29.7735195528797\n",
       "\\item 10.0542476755602\n",
       "\\end{enumerate*}\n",
       "\n",
       "\\end{enumerate}\n"
      ],
      "text/markdown": [
       "1. 1. -39.2564375072142\n",
       "2. 1008.20076238463\n",
       "3. 97.0780215071137\n",
       "4. 24.6853317858004\n",
       "5. 6.33728168873459\n",
       "\n",
       "\n",
       "\n",
       "2. 1. -52.3269255724874\n",
       "2. 2309.38281697713\n",
       "3. 109.153385510531\n",
       "4. 379.165005819312\n",
       "5. 117.415648459844\n",
       "6. 377.100379560396\n",
       "\n",
       "\n",
       "\n",
       "3. 1. -51.5718112301401\n",
       "2. 1745.65604228207\n",
       "3. 143.679945112352\n",
       "4. 196.282311017093\n",
       "5. -182.522595287182\n",
       "6. 41.2792185132277\n",
       "7. 22.5422061582167\n",
       "\n",
       "\n",
       "\n",
       "4. 1. -51.422689880595\n",
       "2. 2091.6353625739\n",
       "3. -181.231990217791\n",
       "4. 52.1425009229481\n",
       "5. -178.828369313073\n",
       "6. -181.108543372396\n",
       "7. 103.690445218366\n",
       "8. 162.219862726869\n",
       "\n",
       "\n",
       "\n",
       "5. 1. -9.17225449891967\n",
       "2. 662.579935910909\n",
       "3. 145.947030181385\n",
       "4. 16.0780161025309\n",
       "5. 12.0967906207057\n",
       "\n",
       "\n",
       "\n",
       "6. 1. -8.59893198775753\n",
       "2. 949.14586206545\n",
       "3. 491.21026326152\n",
       "4. 849.107911167943\n",
       "5. 14.6487208517824\n",
       "6. 51.519408265171\n",
       "\n",
       "\n",
       "\n",
       "7. 1. -10.5364502392919\n",
       "2. 1184.23429105563\n",
       "3. 49.0012500651003\n",
       "4. 134.054658103862\n",
       "5. -75.8750635734072\n",
       "6. 29.7735195528797\n",
       "7. 10.0542476755602\n",
       "\n",
       "\n",
       "\n",
       "\n",
       "\n"
      ],
      "text/plain": [
       "[[1]]\n",
       "[1]  -39.256438 1008.200762   97.078022   24.685332    6.337282\n",
       "\n",
       "[[2]]\n",
       "[1]  -52.32693 2309.38282  109.15339  379.16501  117.41565  377.10038\n",
       "\n",
       "[[3]]\n",
       "[1]  -51.57181 1745.65604  143.67995  196.28231 -182.52260   41.27922   22.54221\n",
       "\n",
       "[[4]]\n",
       "[1]  -51.42269 2091.63536 -181.23199   52.14250 -178.82837 -181.10854  103.69045\n",
       "[8]  162.21986\n",
       "\n",
       "[[5]]\n",
       "[1]  -9.172254 662.579936 145.947030  16.078016  12.096791\n",
       "\n",
       "[[6]]\n",
       "[1]  -8.598932 949.145862 491.210263 849.107911  14.648721  51.519408\n",
       "\n",
       "[[7]]\n",
       "[1]  -10.53645 1184.23429   49.00125  134.05466  -75.87506   29.77352   10.05425\n"
      ]
     },
     "metadata": {},
     "output_type": "display_data"
    }
   ],
   "source": [
    "pars <- lapply(list(m1,m2,m3,m4,m5,m6,m7), function(x){\n",
    "    x$par\n",
    "})\n",
    "\n",
    "pars"
   ]
  },
  {
   "cell_type": "markdown",
   "metadata": {},
   "source": [
    "# weigthed distance\n",
    "\n"
   ]
  },
  {
   "cell_type": "code",
   "execution_count": 42,
   "metadata": {},
   "outputs": [],
   "source": [
    "data<- data %>% mutate( ldistw = case_when( distw > 0 ~ log(distw/1000), T ~ 0 ))\n",
    "data  <- data %>% mutate(ldisqw = ldistw^2)\n",
    "data  <- data %>% mutate(ldiscw = ldistw^3)\n",
    "data  <- data %>% mutate(inter1w = ldistw*contig)\n",
    "data  <- data %>% mutate(inter2w = ldisqw*contig)\n",
    "\n",
    "list1 <- c(\"ldistw\",\"contig\",\"comlang_off\",\"comcol\")\n",
    "mw0 <- mljoch(list1,list2,data ,strato,chosenito,T)\n",
    "\n",
    "list1 <- c(\"ldistw\",\"ldisqw\",\"contig\",\"comlang_off\",\"comcol\")\n",
    "mw1 <- mljoch(list1,list2,data ,strato,chosenito,T)\n",
    "\n",
    "list1 <- c(\"ldistw\",\"ldisqw\",\"ldiscw\",\"contig\",\"comlang_off\",\"comcol\")\n",
    "\n",
    "mw2 <- mljoch(list1,list2,data,strato,chosenito,T)\n",
    "\n",
    "\n",
    "list1 <- c(\"ldistw\",\"ldisqw\",\"ldiscw\",\"contig\",\"inter1w\",\"comlang_off\",\"comcol\")\n",
    "\n",
    "mw3 <- mljoch(list1,list2,data,strato,chosenito,T)\n",
    "\n",
    "\n",
    "list1 <- c(\"ldistw\",\"ldisqw\",\"ldiscw\",\"contig\",\"inter1w\",\"inter2w\",\"comlang_off\",\"comcol\")\n",
    "\n",
    "mw4 <- mljoch(list1,list2,data,strato,chosenito,T)"
   ]
  },
  {
   "cell_type": "code",
   "execution_count": 43,
   "metadata": {},
   "outputs": [
    {
     "data": {
      "text/html": [
       "<ol>\n",
       "\t<li><style>\n",
       ".list-inline {list-style: none; margin:0; padding: 0}\n",
       ".list-inline>li {display: inline-block}\n",
       ".list-inline>li:not(:last-child)::after {content: \"\\00b7\"; padding: 0 .5ex}\n",
       "</style>\n",
       "<ol class=list-inline><li>0.99254959949569</li><li>118.935311557753</li><li>174.281280036676</li><li>229.042600116438</li></ol>\n",
       "</li>\n",
       "\t<li><style>\n",
       ".list-inline {list-style: none; margin:0; padding: 0}\n",
       ".list-inline>li {display: inline-block}\n",
       ".list-inline>li:not(:last-child)::after {content: \"\\00b7\"; padding: 0 .5ex}\n",
       "</style>\n",
       "<ol class=list-inline><li>47.8378274316496</li><li>3656.68584731163</li><li>85.6361184874263</li><li>14.5896239407701</li><li>16.5930458764905</li></ol>\n",
       "</li>\n",
       "\t<li><style>\n",
       ".list-inline {list-style: none; margin:0; padding: 0}\n",
       ".list-inline>li {display: inline-block}\n",
       ".list-inline>li:not(:last-child)::after {content: \"\\00b7\"; padding: 0 .5ex}\n",
       "</style>\n",
       "<ol class=list-inline><li>57.1975864770622</li><li>8721.03351616704</li><li>-184.639997457274</li><li>16.2069246919953</li><li>42.3388914848842</li><li>14.9225790718614</li></ol>\n",
       "</li>\n",
       "\t<li><style>\n",
       ".list-inline {list-style: none; margin:0; padding: 0}\n",
       ".list-inline>li {display: inline-block}\n",
       ".list-inline>li:not(:last-child)::after {content: \"\\00b7\"; padding: 0 .5ex}\n",
       "</style>\n",
       "<ol class=list-inline><li>51.9608745380967</li><li>8025.89324916565</li><li>-424.764775443409</li><li>1656.75892095161</li><li>-596.905111092565</li><li>379.784720973758</li><li>50.712367012454</li></ol>\n",
       "</li>\n",
       "\t<li><style>\n",
       ".list-inline {list-style: none; margin:0; padding: 0}\n",
       ".list-inline>li {display: inline-block}\n",
       ".list-inline>li:not(:last-child)::after {content: \"\\00b7\"; padding: 0 .5ex}\n",
       "</style>\n",
       "<ol class=list-inline><li>77.0125853955151</li><li>15502.5180761319</li><li>-1133.29138086313</li><li>14.049031583394</li><li>-51.521432184831</li><li>-796.302328331959</li><li>39.6374196645863</li><li>268.420296490937</li></ol>\n",
       "</li>\n",
       "</ol>\n"
      ],
      "text/latex": [
       "\\begin{enumerate}\n",
       "\\item \\begin{enumerate*}\n",
       "\\item 0.99254959949569\n",
       "\\item 118.935311557753\n",
       "\\item 174.281280036676\n",
       "\\item 229.042600116438\n",
       "\\end{enumerate*}\n",
       "\n",
       "\\item \\begin{enumerate*}\n",
       "\\item 47.8378274316496\n",
       "\\item 3656.68584731163\n",
       "\\item 85.6361184874263\n",
       "\\item 14.5896239407701\n",
       "\\item 16.5930458764905\n",
       "\\end{enumerate*}\n",
       "\n",
       "\\item \\begin{enumerate*}\n",
       "\\item 57.1975864770622\n",
       "\\item 8721.03351616704\n",
       "\\item -184.639997457274\n",
       "\\item 16.2069246919953\n",
       "\\item 42.3388914848842\n",
       "\\item 14.9225790718614\n",
       "\\end{enumerate*}\n",
       "\n",
       "\\item \\begin{enumerate*}\n",
       "\\item 51.9608745380967\n",
       "\\item 8025.89324916565\n",
       "\\item -424.764775443409\n",
       "\\item 1656.75892095161\n",
       "\\item -596.905111092565\n",
       "\\item 379.784720973758\n",
       "\\item 50.712367012454\n",
       "\\end{enumerate*}\n",
       "\n",
       "\\item \\begin{enumerate*}\n",
       "\\item 77.0125853955151\n",
       "\\item 15502.5180761319\n",
       "\\item -1133.29138086313\n",
       "\\item 14.049031583394\n",
       "\\item -51.521432184831\n",
       "\\item -796.302328331959\n",
       "\\item 39.6374196645863\n",
       "\\item 268.420296490937\n",
       "\\end{enumerate*}\n",
       "\n",
       "\\end{enumerate}\n"
      ],
      "text/markdown": [
       "1. 1. 0.99254959949569\n",
       "2. 118.935311557753\n",
       "3. 174.281280036676\n",
       "4. 229.042600116438\n",
       "\n",
       "\n",
       "\n",
       "2. 1. 47.8378274316496\n",
       "2. 3656.68584731163\n",
       "3. 85.6361184874263\n",
       "4. 14.5896239407701\n",
       "5. 16.5930458764905\n",
       "\n",
       "\n",
       "\n",
       "3. 1. 57.1975864770622\n",
       "2. 8721.03351616704\n",
       "3. -184.639997457274\n",
       "4. 16.2069246919953\n",
       "5. 42.3388914848842\n",
       "6. 14.9225790718614\n",
       "\n",
       "\n",
       "\n",
       "4. 1. 51.9608745380967\n",
       "2. 8025.89324916565\n",
       "3. -424.764775443409\n",
       "4. 1656.75892095161\n",
       "5. -596.905111092565\n",
       "6. 379.784720973758\n",
       "7. 50.712367012454\n",
       "\n",
       "\n",
       "\n",
       "5. 1. 77.0125853955151\n",
       "2. 15502.5180761319\n",
       "3. -1133.29138086313\n",
       "4. 14.049031583394\n",
       "5. -51.521432184831\n",
       "6. -796.302328331959\n",
       "7. 39.6374196645863\n",
       "8. 268.420296490937\n",
       "\n",
       "\n",
       "\n",
       "\n",
       "\n"
      ],
      "text/plain": [
       "[[1]]\n",
       "[1]   0.9925496 118.9353116 174.2812800 229.0426001\n",
       "\n",
       "[[2]]\n",
       "[1]   47.83783 3656.68585   85.63612   14.58962   16.59305\n",
       "\n",
       "[[3]]\n",
       "[1]   57.19759 8721.03352 -184.64000   16.20692   42.33889   14.92258\n",
       "\n",
       "[[4]]\n",
       "[1]   51.96087 8025.89325 -424.76478 1656.75892 -596.90511  379.78472   50.71237\n",
       "\n",
       "[[5]]\n",
       "[1]    77.01259 15502.51808 -1133.29138    14.04903   -51.52143  -796.30233\n",
       "[7]    39.63742   268.42030\n"
      ]
     },
     "metadata": {},
     "output_type": "display_data"
    }
   ],
   "source": [
    "pars <- lapply(list(mw0,mw1,mw2,mw3,mw4), function(x){\n",
    "    x$par\n",
    "})\n",
    "\n",
    "pars"
   ]
  },
  {
   "cell_type": "markdown",
   "metadata": {},
   "source": [
    "# OECD"
   ]
  },
  {
   "cell_type": "code",
   "execution_count": 40,
   "metadata": {},
   "outputs": [],
   "source": [
    "data_o <- data\n",
    "\n",
    "oecd  <-  fread(\"~/Dropbox/datatesis/oecd_list.csv\")\n",
    "choecd  <- ((38^2)*(37^2)*(3^2)*(2^2))/4\n",
    "\n",
    "\n",
    "data_o <- data_o %>% semi_join(oecd,by=c(\"iso3num_d\"=\"iso3num\")) %>% \n",
    "semi_join(oecd,by=c(\"iso3num_o\"=\"iso3num\"))\n",
    "\n",
    "list1 <- c(\"sldata\",\"sldatasq\", \"contig\",\"comlang_off\",\"comcol\")\n",
    "o1 <- mljoch(list1,list2,data_o ,strato,choecd,T)\n",
    "\n",
    "list1 <- c(\"ldist\",\"ldisq\", \"contig\",\"comlang_off\",\"comcol\")\n",
    "o2 <- mljoch(list1,list2,data_o ,strato,choecd,T)"
   ]
  },
  {
   "cell_type": "code",
   "execution_count": 41,
   "metadata": {},
   "outputs": [
    {
     "data": {
      "text/html": [
       "<ol>\n",
       "\t<li><style>\n",
       ".list-inline {list-style: none; margin:0; padding: 0}\n",
       ".list-inline>li {display: inline-block}\n",
       ".list-inline>li:not(:last-child)::after {content: \"\\00b7\"; padding: 0 .5ex}\n",
       "</style>\n",
       "<ol class=list-inline><li>-978.593043976743</li><li>20494.4363062504</li><li>957.081866448281</li><li>21.5896623441904</li><li>-31.5078831318232</li></ol>\n",
       "</li>\n",
       "\t<li><style>\n",
       ".list-inline {list-style: none; margin:0; padding: 0}\n",
       ".list-inline>li {display: inline-block}\n",
       ".list-inline>li:not(:last-child)::after {content: \"\\00b7\"; padding: 0 .5ex}\n",
       "</style>\n",
       "<ol class=list-inline><li>-116.203484489158</li><li>9118.22670222704</li><li>15.378786662691</li><li>232.072923226038</li><li>-1.00154498090962</li></ol>\n",
       "</li>\n",
       "</ol>\n"
      ],
      "text/latex": [
       "\\begin{enumerate}\n",
       "\\item \\begin{enumerate*}\n",
       "\\item -978.593043976743\n",
       "\\item 20494.4363062504\n",
       "\\item 957.081866448281\n",
       "\\item 21.5896623441904\n",
       "\\item -31.5078831318232\n",
       "\\end{enumerate*}\n",
       "\n",
       "\\item \\begin{enumerate*}\n",
       "\\item -116.203484489158\n",
       "\\item 9118.22670222704\n",
       "\\item 15.378786662691\n",
       "\\item 232.072923226038\n",
       "\\item -1.00154498090962\n",
       "\\end{enumerate*}\n",
       "\n",
       "\\end{enumerate}\n"
      ],
      "text/markdown": [
       "1. 1. -978.593043976743\n",
       "2. 20494.4363062504\n",
       "3. 957.081866448281\n",
       "4. 21.5896623441904\n",
       "5. -31.5078831318232\n",
       "\n",
       "\n",
       "\n",
       "2. 1. -116.203484489158\n",
       "2. 9118.22670222704\n",
       "3. 15.378786662691\n",
       "4. 232.072923226038\n",
       "5. -1.00154498090962\n",
       "\n",
       "\n",
       "\n",
       "\n",
       "\n"
      ],
      "text/plain": [
       "[[1]]\n",
       "[1]  -978.59304 20494.43631   957.08187    21.58966   -31.50788\n",
       "\n",
       "[[2]]\n",
       "[1] -116.203484 9118.226702   15.378787  232.072923   -1.001545\n"
      ]
     },
     "metadata": {},
     "output_type": "display_data"
    }
   ],
   "source": [
    "pars <- lapply(list(o1,o2), function(x){\n",
    "    x$par\n",
    "})\n",
    "\n",
    "pars"
   ]
  },
  {
   "cell_type": "code",
   "execution_count": 44,
   "metadata": {},
   "outputs": [],
   "source": [
    "sizo <- dim(data)[1]\n",
    "set.seed(2020)\n",
    "sdata <- data\n",
    "\n",
    "best <- lapply(c(1:20) , function(i){\n",
    "\n",
    "ese <-  sdata %>%  slice_sample(n=sizo, replace = T) %>%\n",
    "        mutate(iso3num_o=data$iso3num_o,iso3num_d=data$iso3num_d)\n",
    "\n",
    "\n",
    "list1 <- c(\"ldist\",\"ldisq\", \"ldisc\", \"contig\",\"comlang_off\",\"comcol\")\n",
    "list2  <- c(\"tourism\",\"fdi\",\"tradeflow_comtrade_d\")\n",
    "mljoch(list1,list2,ese ,strato,chosenito,T)$par\n",
    "\n",
    "})\n",
    "\n"
   ]
  },
  {
   "cell_type": "code",
   "execution_count": 49,
   "metadata": {},
   "outputs": [
    {
     "name": "stdout",
     "output_type": "stream",
     "text": [
      "      2.5%      97.5% \n",
      "-168.73891  -14.86116 \n",
      "[1] -1.226155\n"
     ]
    },
    {
     "data": {
      "image/png": "[encoded data removed]",
      "text/plain": [
       "plot without title"
      ]
     },
     "metadata": {
      "image/png": {
       "height": 420,
       "width": 420
      }
     },
     "output_type": "display_data"
    },
    {
     "data": {
      "image/png": "[encoded data removed]",
      "text/plain": [
       "Plot with title “density.default(x = b1)”"
      ]
     },
     "metadata": {
      "image/png": {
       "height": 420,
       "width": 420
      }
     },
     "output_type": "display_data"
    },
    {
     "data": {
      "image/png": "[encoded data removed]",
      "text/plain": [
       "plot without title"
      ]
     },
     "metadata": {
      "image/png": {
       "height": 420,
       "width": 420
      }
     },
     "output_type": "display_data"
    }
   ],
   "source": [
    "b1 <-lapply(best,function(x){\n",
    "    x[1]\n",
    "})\n",
    "\n",
    "b1<-unlist(b1)\n",
    "\n",
    "#skim(b1)\n",
    "\n",
    "print(quantile(b1, c(0.025,0.975)))\n",
    "\n",
    "print(sd(b1)/median(b1))\n",
    "\n",
    "\n",
    "boxplot(b1)\n",
    "\n",
    "plot(density(b1))\n",
    "\n",
    "ggplot(as.data.frame(b1),aes(y=b1)) +\n",
    "  geom_boxplot(outlier.shape = NA) + coord_cartesian(ylim=c(-100, 0))"
   ]
  },
  {
   "cell_type": "code",
   "execution_count": 23,
   "metadata": {},
   "outputs": [],
   "source": [
    "sizo <- dim(data_o)[1]\n",
    "set.seed(2020)\n",
    "sdata <- data_o\n",
    "\n",
    "choecd  <- ((38^2)*(3^2))\n",
    "\n",
    "best <- lapply(c(1:100) , function(i){\n",
    "\n",
    "ese <-  sdata %>%  slice_sample(n=sizo, replace = T) %>%\n",
    "        mutate(iso3num_o=data_o$iso3num_o,iso3num_d=data_o$iso3num_d)\n",
    "\n",
    "\n",
    "list1 <- c(\"ldist\",\"ldisq\", \"ldisc\",\"contig\",\"comlang_off\",\"comcol\")\n",
    "list2  <- c(\"tourism\",\"fdi\",\"tradeflow_comtrade_d\")\n",
    "mljoch(list1,list2,ese ,strato,choecd,T)$par\n",
    "\n",
    "})\n",
    "\n"
   ]
  },
  {
   "cell_type": "code",
   "execution_count": 21,
   "metadata": {},
   "outputs": [
    {
     "name": "stdout",
     "output_type": "stream",
     "text": [
      "         5%         95% \n",
      "-0.32197886 -0.01663742 \n",
      "[1] -0.4757878\n"
     ]
    },
    {
     "data": {
      "image/png": "[encoded data removed]",
      "text/plain": [
       "plot without title"
      ]
     },
     "metadata": {
      "image/png": {
       "height": 420,
       "width": 420
      }
     },
     "output_type": "display_data"
    },
    {
     "data": {
      "image/png": "[encoded data removed]",
      "text/plain": [
       "Plot with title “density.default(x = b1)”"
      ]
     },
     "metadata": {
      "image/png": {
       "height": 420,
       "width": 420
      }
     },
     "output_type": "display_data"
    },
    {
     "data": {
      "image/png": "[encoded data removed]",
      "text/plain": [
       "plot without title"
      ]
     },
     "metadata": {
      "image/png": {
       "height": 420,
       "width": 420
      }
     },
     "output_type": "display_data"
    }
   ],
   "source": [
    "b1 <-lapply(best,function(x){\n",
    "    x[1]\n",
    "})\n",
    "\n",
    "b1<-unlist(b1)\n",
    "\n",
    "#skim(b1)\n",
    "\n",
    "print(quantile(b1, c(0.05,0.95)))\n",
    "\n",
    "print(sd(b1)/median(b1))\n",
    "\n",
    "\n",
    "boxplot(b1)\n",
    "\n",
    "plot(density(b1))\n",
    "\n",
    "ggplot(as.data.frame(b1),aes(y=b1)) +\n",
    "  geom_boxplot(outlier.shape = NA) + coord_cartesian(ylim=c(-5, 20))"
   ]
  }
 ],
 "metadata": {
  "interpreter": {
   "hash": "c9c95a542e0787f57613780817cff22e65fe979e702b6d9a424a45d54043f1a4"
  },
  "kernelspec": {
   "display_name": "R",
   "language": "R",
   "name": "ir"
  },
  "language_info": {
   "codemirror_mode": "r",
   "file_extension": ".r",
   "mimetype": "text/x-r-source",
   "name": "R",
   "pygments_lexer": "r",
   "version": "4.1.2"
  },
  "orig_nbformat": 4
 },
 "nbformat": 4,
 "nbformat_minor": 2
}
